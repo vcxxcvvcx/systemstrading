{
 "cells": [
  {
   "cell_type": "markdown",
   "id": "31c30927",
   "metadata": {},
   "source": [
    "# Vectorized Adjustment & Stop-Loss Backtest Notebook (v2)\n",
    "\n",
    "이 노트북은 3단계 백테스트 프로세스를 담고 있습니다."
   ]
  },
  {
   "cell_type": "code",
   "execution_count": null,
   "id": "1e1536e1",
   "metadata": {},
   "outputs": [],
   "source": [
    "print('이 셀부터 순서대로 실행하면 됩니다.')"
   ]
  }
 ],
 "metadata": {},
 "nbformat": 4,
 "nbformat_minor": 5
}
